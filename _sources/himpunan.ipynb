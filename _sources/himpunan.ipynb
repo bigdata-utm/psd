{
 "cells": [
  {
   "cell_type": "markdown",
   "id": "1c215eff-47f9-46a6-907b-76fe1673dbbe",
   "metadata": {},
   "source": [
    "Himpunan  dalam Python adalah struktur data yang dapat memuat nilai Python lainnya. \n",
    "\n",
    "Himpunan dalam Python adalah objek yang dapat kita ulangi menggunakan pernyataan for untuk melakukan sesuatu pada  setiap anggota set. \n",
    "\n",
    "Kita dapat membuat set menggunakan set $display$, yang memiliki bentuk yang sama dengan tampilan list "
   ]
  },
  {
   "cell_type": "code",
   "execution_count": 32,
   "id": "1a7b8876-88bb-44d2-af0a-6f9338fb020c",
   "metadata": {},
   "outputs": [
    {
     "data": {
      "text/plain": [
       "{1, 3, 5, 6}"
      ]
     },
     "execution_count": 32,
     "metadata": {},
     "output_type": "execute_result"
    }
   ],
   "source": [
    "himpunanA={ 1, 3, 5 }\n",
    "himpunanA.add(6)\n",
    "himpunanA"
   ]
  },
  {
   "cell_type": "code",
   "execution_count": 2,
   "id": "ead4e33b-e87c-449e-b51e-99a723c03b55",
   "metadata": {},
   "outputs": [
    {
     "name": "stdout",
     "output_type": "stream",
     "text": [
      "Collecting sympy\n",
      "  Downloading sympy-1.13.2-py3-none-any.whl.metadata (12 kB)\n",
      "Collecting mpmath<1.4,>=1.1.0 (from sympy)\n",
      "  Downloading mpmath-1.3.0-py3-none-any.whl.metadata (8.6 kB)\n",
      "Downloading sympy-1.13.2-py3-none-any.whl (6.2 MB)\n",
      "\u001b[2K   \u001b[90m━━━━━━━━━━━━━━━━━━━━━━━━━━━━━━━━━━━━━━━━\u001b[0m \u001b[32m6.2/6.2 MB\u001b[0m \u001b[31m10.1 MB/s\u001b[0m eta \u001b[36m0:00:00\u001b[0m00:01\u001b[0m00:01\u001b[0m\n",
      "\u001b[?25hDownloading mpmath-1.3.0-py3-none-any.whl (536 kB)\n",
      "\u001b[2K   \u001b[90m━━━━━━━━━━━━━━━━━━━━━━━━━━━━━━━━━━━━━━━━\u001b[0m \u001b[32m536.2/536.2 kB\u001b[0m \u001b[31m10.3 MB/s\u001b[0m eta \u001b[36m0:00:00\u001b[0m00:01\u001b[0m\n",
      "\u001b[?25hInstalling collected packages: mpmath, sympy\n",
      "Successfully installed mpmath-1.3.0 sympy-1.13.2\n"
     ]
    }
   ],
   "source": [
    "!pip install sympy"
   ]
  },
  {
   "cell_type": "code",
   "execution_count": 3,
   "id": "52100322-914f-448d-96b6-261ee4743ee1",
   "metadata": {},
   "outputs": [
    {
     "name": "stdout",
     "output_type": "stream",
     "text": [
      "{black, blue, brown, green, purple}\n"
     ]
    }
   ],
   "source": [
    "from sympy import FiniteSet\n",
    "colors = FiniteSet(\"purple\",\n",
    "\"black\",\"blue\", \"green\" ,\"brown\")\n",
    "print(colors)"
   ]
  },
  {
   "cell_type": "code",
   "execution_count": 4,
   "id": "385f8d6d-f491-47f2-9cbd-3a91319b6261",
   "metadata": {},
   "outputs": [
    {
     "name": "stdout",
     "output_type": "stream",
     "text": [
      "{7/11, 3.5, 5}\n"
     ]
    }
   ],
   "source": [
    "from fractions import Fraction\n",
    "a = FiniteSet(Fraction(7,11),5,3.5)\n",
    "print(a)\n"
   ]
  },
  {
   "cell_type": "code",
   "execution_count": 6,
   "id": "943d2e18-73dc-47e2-ba3b-397b4dc6318b",
   "metadata": {},
   "outputs": [
    {
     "name": "stdout",
     "output_type": "stream",
     "text": [
      "{4, 9, 13, 15, 17, 20}\n",
      "length =  6\n"
     ]
    }
   ],
   "source": [
    "from sympy import FiniteSet\n",
    "w = FiniteSet(9,4,20,15,9,13,17)\n",
    "print(w)\n",
    "# for printing cardinality of\n",
    "\n",
    "print (\"length = \",len(w))"
   ]
  },
  {
   "cell_type": "code",
   "execution_count": 7,
   "id": "8b88a7a5-0278-4f40-8656-8ddc348c5bb1",
   "metadata": {},
   "outputs": [
    {
     "name": "stdout",
     "output_type": "stream",
     "text": [
      "2 in s :  False\n",
      "8 in s :  True\n"
     ]
    },
    {
     "name": "stderr",
     "output_type": "stream",
     "text": [
      "<>:3: SyntaxWarning: invalid decimal literal\n",
      "<>:4: SyntaxWarning: invalid decimal literal\n",
      "<>:3: SyntaxWarning: invalid decimal literal\n",
      "<>:4: SyntaxWarning: invalid decimal literal\n",
      "/tmp/ipykernel_586/2532859089.py:3: SyntaxWarning: invalid decimal literal\n",
      "  print( \"2 in s : \",2in s )\n",
      "/tmp/ipykernel_586/2532859089.py:4: SyntaxWarning: invalid decimal literal\n",
      "  print(\"8 in s : \",8in s)\n"
     ]
    }
   ],
   "source": [
    "from sympy import FiniteSet\n",
    "s = FiniteSet(1,5,9,8,6)\n",
    "print( \"2 in s : \",2in s )\n",
    "print(\"8 in s : \",8in s)\n"
   ]
  },
  {
   "cell_type": "code",
   "execution_count": 9,
   "id": "c447a110-ab62-45e9-be6f-180b7b783678",
   "metadata": {},
   "outputs": [
    {
     "name": "stdout",
     "output_type": "stream",
     "text": [
      "EmptySet\n"
     ]
    }
   ],
   "source": [
    "from sympy import FiniteSet\n",
    "#empty set\n",
    "es = FiniteSet()\n",
    "print(es)\n",
    "\n",
    "      "
   ]
  },
  {
   "cell_type": "code",
   "execution_count": 11,
   "id": "c262a1df-4d0e-4dfe-b04b-ba44eb2550cb",
   "metadata": {},
   "outputs": [
    {
     "name": "stdout",
     "output_type": "stream",
     "text": [
      "Set A:  {1, 2, 3}\n",
      "Set B:  {1, 2, 3, 4}\n",
      "Set C:  EmptySet\n",
      "A.is_subset(B): True\n",
      "B.is_subset(A): False\n",
      "C.is_subset(A): True\n",
      "A.is_subset(C): False\n",
      "C.is_subset(B): True\n"
     ]
    }
   ],
   "source": [
    "from sympy import FiniteSet\n",
    "A = FiniteSet(1,2,3)\n",
    "print(\"Set A: \",A)\n",
    "B= FiniteSet(1,2,3,4)\n",
    "print(\"Set B: \",B)\n",
    "C= FiniteSet()\n",
    "print(\"Set C: \",C)\n",
    "print(\"A.is_subset(B):\",A.is_subset(B))\n",
    "print(\"B.is_subset(A):\",B.is_subset(A))\n",
    "print(\"C.is_subset(A):\",C.is_subset(A))\n",
    "print(\"A.is_subset(C):\",A.is_subset(C))\n",
    "print(\"C.is_subset(B):\",C.is_subset(B))\n"
   ]
  },
  {
   "cell_type": "code",
   "execution_count": 13,
   "id": "75da71af-dd0e-4479-b89e-32909539a4e5",
   "metadata": {},
   "outputs": [
    {
     "name": "stdout",
     "output_type": "stream",
     "text": [
      "A.is_superset(B):  False\n",
      "B.is_superset(A): True\n",
      "A.is_superset(C): True\n",
      "C.is_superset(A): False\n"
     ]
    }
   ],
   "source": [
    "from sympy import FiniteSet\n",
    "A= FiniteSet(1,2,3)\n",
    "B= FiniteSet(1,2,3,4)\n",
    "C= FiniteSet()\n",
    "print (\"A.is_superset(B): \",A.is_superset(B))\n",
    "print (\"B.is_superset(A):\",B.is_superset(A))\n",
    "print (\"A.is_superset(C):\",A.is_superset(C))\n",
    "print (\"C.is_superset(A):\",C.is_superset(A))\n"
   ]
  },
  {
   "cell_type": "code",
   "execution_count": 14,
   "id": "09ce5f89-8be0-4ff9-9b57-ccb5e760e921",
   "metadata": {},
   "outputs": [
    {
     "name": "stdout",
     "output_type": "stream",
     "text": [
      "Length of Power Set 8\n"
     ]
    },
    {
     "data": {
      "text/latex": [
       "$\\displaystyle \\left\\{\\emptyset, \\left\\{1\\right\\}, \\left\\{2\\right\\}, \\left\\{3\\right\\}, \\left\\{1, 2\\right\\}, \\left\\{1, 3\\right\\}, \\left\\{2, 3\\right\\}, \\left\\{1, 2, 3\\right\\}\\right\\}$"
      ],
      "text/plain": [
       "FiniteSet(EmptySet, {1}, {2}, {3}, {1, 2}, {1, 3}, {2, 3}, {1, 2, 3})"
      ]
     },
     "execution_count": 14,
     "metadata": {},
     "output_type": "execute_result"
    }
   ],
   "source": [
    "from sympy import FiniteSet\n",
    "s= FiniteSet(1,2,3)\n",
    "Power_set = A.powerset()\n",
    "print(\"Length of Power Set\",\n",
    "len(Power_set))\n",
    "Power_set"
   ]
  },
  {
   "cell_type": "code",
   "execution_count": 15,
   "id": "3c8e7112-9b92-4e07-a1d4-ebcdd4be55ba",
   "metadata": {},
   "outputs": [
    {
     "name": "stdout",
     "output_type": "stream",
     "text": [
      "A.is_proper_subset(D):  True\n",
      "D.is_proper_subset(A):  False\n"
     ]
    }
   ],
   "source": [
    "from sympy import FiniteSet\n",
    "A= FiniteSet(1,3,5)\n",
    "D= FiniteSet(1,2,3,4,5,6)\n",
    "print(\"A.is_proper_subset(D): \",A.is_proper_subset(D))\n",
    "print(\"D.is_proper_subset(A): \",D.is_proper_subset(A))"
   ]
  },
  {
   "cell_type": "code",
   "execution_count": 16,
   "id": "34ef9c6b-9fb3-414a-8cf4-672caf0770f3",
   "metadata": {},
   "outputs": [
    {
     "name": "stdout",
     "output_type": "stream",
     "text": [
      "P.union(Q):\n",
      " {3, 4, 5, 6, 8, 9, 10}\n",
      "P.union(Q).union(R):\n",
      " {2, 3, 4, 5, 6, 7, 8, 9, 10, 11}\n"
     ]
    }
   ],
   "source": [
    "from sympy import FiniteSet\n",
    "P= FiniteSet(3,4,5,6)\n",
    "Q= FiniteSet(6,4,8,9,10)\n",
    "R= FiniteSet(2,11,6,7,2)\n",
    "print(\"P.union(Q):\\n\",P.union(Q))\n",
    "print(\"P.union(Q).union(R):\\n\",P.union(Q).union(R))"
   ]
  },
  {
   "cell_type": "code",
   "execution_count": 17,
   "id": "6eacdea9-7780-4af6-a70e-9c88d0e294bb",
   "metadata": {},
   "outputs": [
    {
     "name": "stdout",
     "output_type": "stream",
     "text": [
      "P.intersect(Q):\n",
      " {4, 6}\n",
      "P.intersect(Q).intersect(R):\n",
      " {6}\n"
     ]
    }
   ],
   "source": [
    "from sympy import FiniteSet\n",
    "P= FiniteSet(3,4,5,6)\n",
    "Q= FiniteSet(6,4,8,9,10)\n",
    "R= FiniteSet(2,11,6,7,2)\n",
    "print(\"P.intersect(Q):\\n\",P.intersect(Q))\n",
    "print(\"P.intersect(Q).intersect(R):\\n\",P.intersect(Q).intersect(R))\n"
   ]
  },
  {
   "cell_type": "code",
   "execution_count": 20,
   "id": "963d5aea-8a56-4340-8022-b44be1f6c79c",
   "metadata": {},
   "outputs": [
    {
     "name": "stdout",
     "output_type": "stream",
     "text": [
      "ProductSet({1, 2}, {8, 9})\n",
      "elements are:\n",
      "(1, 8)\n",
      "(2, 8)\n",
      "(1, 9)\n",
      "(2, 9)\n",
      "Checking thecardinality of the Cartesian product z =A X B\n",
      "Does the len(z)=len(A)*len(B):  True\n"
     ]
    }
   ],
   "source": [
    "from sympy import FiniteSet\n",
    "A=FiniteSet(1,2)\n",
    "B=FiniteSet(8,9)\n",
    "z= A*B\n",
    "print(z)\n",
    "print('elements are:')\n",
    "for e in z:\n",
    "    print(e)\n",
    "print('Checking thecardinality of the Cartesian product z =A X B')\n",
    "# Check for lenght\n",
    "print(\"Does the len(z)=len(A)*len(B): \",(len(z)==len(A)*len(B)))"
   ]
  },
  {
   "cell_type": "code",
   "execution_count": 22,
   "id": "2d08b5da-63d3-4aa0-a683-b3a7f0fbd85a",
   "metadata": {},
   "outputs": [
    {
     "name": "stdout",
     "output_type": "stream",
     "text": [
      "Collecting matplotlib-venn\n",
      "  Downloading matplotlib-venn-1.1.1.tar.gz (40 kB)\n",
      "\u001b[2K     \u001b[90m━━━━━━━━━━━━━━━━━━━━━━━━━━━━━━━━━━━━━━━\u001b[0m \u001b[32m40.3/40.3 kB\u001b[0m \u001b[31m968.6 kB/s\u001b[0m eta \u001b[36m0:00:00\u001b[0m\n",
      "\u001b[?25h  Installing build dependencies ... \u001b[?25ldone\n",
      "\u001b[?25h  Getting requirements to build wheel ... \u001b[?25ldone\n",
      "\u001b[?25h  Preparing metadata (pyproject.toml) ... \u001b[?25ldone\n",
      "\u001b[?25hRequirement already satisfied: matplotlib in /opt/conda/lib/python3.11/site-packages (from matplotlib-venn) (3.8.3)\n",
      "Requirement already satisfied: numpy in /opt/conda/lib/python3.11/site-packages (from matplotlib-venn) (1.26.4)\n",
      "Requirement already satisfied: scipy in /opt/conda/lib/python3.11/site-packages (from matplotlib-venn) (1.12.0)\n",
      "Requirement already satisfied: contourpy>=1.0.1 in /opt/conda/lib/python3.11/site-packages (from matplotlib->matplotlib-venn) (1.2.0)\n",
      "Requirement already satisfied: cycler>=0.10 in /opt/conda/lib/python3.11/site-packages (from matplotlib->matplotlib-venn) (0.12.1)\n",
      "Requirement already satisfied: fonttools>=4.22.0 in /opt/conda/lib/python3.11/site-packages (from matplotlib->matplotlib-venn) (4.50.0)\n",
      "Requirement already satisfied: kiwisolver>=1.3.1 in /opt/conda/lib/python3.11/site-packages (from matplotlib->matplotlib-venn) (1.4.5)\n",
      "Requirement already satisfied: packaging>=20.0 in /opt/conda/lib/python3.11/site-packages (from matplotlib->matplotlib-venn) (23.2)\n",
      "Requirement already satisfied: pillow>=8 in /opt/conda/lib/python3.11/site-packages (from matplotlib->matplotlib-venn) (9.4.0)\n",
      "Requirement already satisfied: pyparsing>=2.3.1 in /opt/conda/lib/python3.11/site-packages (from matplotlib->matplotlib-venn) (3.1.2)\n",
      "Requirement already satisfied: python-dateutil>=2.7 in /opt/conda/lib/python3.11/site-packages (from matplotlib->matplotlib-venn) (2.8.2)\n",
      "Requirement already satisfied: six>=1.5 in /opt/conda/lib/python3.11/site-packages (from python-dateutil>=2.7->matplotlib->matplotlib-venn) (1.16.0)\n",
      "Building wheels for collected packages: matplotlib-venn\n",
      "  Building wheel for matplotlib-venn (pyproject.toml) ... \u001b[?25ldone\n",
      "\u001b[?25h  Created wheel for matplotlib-venn: filename=matplotlib_venn-1.1.1-py3-none-any.whl size=45286 sha256=0660f588b35da239ecd85ba58eaf9a2bc0482c470d43a1d8f3291ed5899abe47\n",
      "  Stored in directory: /home/jovyan/.cache/pip/wheels/08/28/f0/0a3240d632a27df6da04d2888a6b058c37e1cbbb425ec5d2cc\n",
      "Successfully built matplotlib-venn\n",
      "Installing collected packages: matplotlib-venn\n",
      "Successfully installed matplotlib-venn-1.1.1\n"
     ]
    }
   ],
   "source": [
    "!pip install matplotlib-venn"
   ]
  },
  {
   "cell_type": "code",
   "execution_count": 23,
   "id": "5c3b359b-b3bc-4731-8e5a-1858ce740c97",
   "metadata": {},
   "outputs": [
    {
     "data": {
      "image/png": "[encoded data removed]",
      "text/plain": [
       "<Figure size 640x480 with 1 Axes>"
      ]
     },
     "metadata": {},
     "output_type": "display_data"
    }
   ],
   "source": [
    "from sympy import FiniteSet\n",
    "from matplotlib.pyplot import*\n",
    "from matplotlib_venn import venn2\n",
    "def draw_venn(sets):\n",
    " venn2(subsets=sets,set_labels =\n",
    "['Set A', 'Set B'])\n",
    " figure(1,dpi=300)\n",
    " savefig('ven.jpg')\n",
    " show()\n",
    "A = FiniteSet(2,3,4,5,9,6,11)\n",
    "B = FiniteSet(2,3,5,71,1,44,43)\n",
    "draw_venn([A,B])"
   ]
  },
  {
   "cell_type": "code",
   "execution_count": 26,
   "id": "795dce0f-3648-4bca-86ba-d3ca6f1db5ae",
   "metadata": {},
   "outputs": [
    {
     "data": {
      "image/png": "[encoded data removed]",
      "text/plain": [
       "<Figure size 640x480 with 1 Axes>"
      ]
     },
     "metadata": {},
     "output_type": "display_data"
    }
   ],
   "source": [
    "from sympy import FiniteSet\n",
    "from matplotlib.pyplot import*\n",
    "from matplotlib_venn import venn2,venn2_circles\n",
    "def draw_venn(sets):\n",
    " venn2(subsets=sets,set_labels =\n",
    "['Set A', 'Set B'],set_colors=(\"orange\",\n",
    "\"blue\"),alpha=0.7)\n",
    " venn2_circles(sets)\n",
    " figure(1,dpi=300)\n",
    " savefig('ven.jpg')\n",
    " show()\n",
    "A = FiniteSet(2,3,4,5,9,6,11)\n",
    "B = FiniteSet(2,3,5,71,1,44,43)\n",
    "draw_venn([A,B])"
   ]
  },
  {
   "cell_type": "code",
   "execution_count": null,
   "id": "0ee87b9a-aea5-46e7-ba77-92d01183cf02",
   "metadata": {},
   "outputs": [],
   "source": []
  }
 ],
 "metadata": {
  "kernelspec": {
   "display_name": "Python 3 (ipykernel)",
   "language": "python",
   "name": "python3"
  },
  "language_info": {
   "codemirror_mode": {
    "name": "ipython",
    "version": 3
   },
   "file_extension": ".py",
   "mimetype": "text/x-python",
   "name": "python",
   "nbconvert_exporter": "python",
   "pygments_lexer": "ipython3",
   "version": "3.11.10"
  }
 },
 "nbformat": 4,
 "nbformat_minor": 5
}
